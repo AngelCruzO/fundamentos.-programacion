{
  "cells": [
    {
      "cell_type": "markdown",
      "metadata": {
        "id": "RN2fJb6z-Z2y"
      },
      "source": [
        "# Estructuras de datos\n",
        "\n",
        "Forma de acomodar los datos. Esto puede alterar:\n",
        "1. El performance del programa\n",
        "2. El comportamiento del programa\n",
        "3. Una entrevista de trabajo (Es muy común que en empresas grandes te preguntes sobre esto)\n",
        "\n",
        "## Pilas\n",
        "Tienen un esquema Last in- First Out (LIFO), es decir, el último que entra es el primero que sale."
      ]
    },
    {
      "cell_type": "code",
      "execution_count": null,
      "metadata": {
        "colab": {
          "base_uri": "https://localhost:8080/"
        },
        "id": "zk2nWECk-IZd",
        "outputId": "caf50998-430f-4b9e-aeae-eb3d36329b0b"
      },
      "outputs": [
        {
          "name": "stdout",
          "output_type": "stream",
          "text": [
            "[3, 5, 6, 7, 10]\n",
            "[3, 5, 6, 7]\n",
            "[3, 5, 6]\n",
            "[3, 5]\n"
          ]
        }
      ],
      "source": [
        "stack = [3, 5, 6] # Stack es solo el nombre de la variable\n",
        "\n",
        "stack.append(7)\n",
        "stack.append(10)\n",
        "\n",
        "print(stack)\n",
        "\n",
        "stack.pop()\n",
        "print(stack)\n",
        "\n",
        "stack.pop()\n",
        "print(stack)\n",
        "\n",
        "stack.pop()\n",
        "print(stack)"
      ]
    },
    {
      "cell_type": "markdown",
      "metadata": {
        "id": "5mNFC525Ahgb"
      },
      "source": [
        "# Fila - Cola\n",
        "\n",
        "Tiene un esquema FIFO. First in-First Out. El primero que entra, es el primero que sale. \n",
        "\n",
        "- `[-1]` Usar el indice -1 siempre nos dirigirá al último elemento de la lista sea cual sea\n",
        "- Lo indices negativos recorren la lista de derecha a izquierda o de delatne para atras. Por ejemplo, el indice `[-2]` nos daría el penultimo valor"
      ]
    },
    {
      "cell_type": "code",
      "execution_count": null,
      "metadata": {
        "colab": {
          "base_uri": "https://localhost:8080/"
        },
        "id": "1_1UGS69A9mE",
        "outputId": "2fc43287-bdba-47f9-9e84-1d649492f33f"
      },
      "outputs": [
        {
          "name": "stdout",
          "output_type": "stream",
          "text": [
            "[9, 8, 7, 5]\n",
            "[9, 8, 7, 5, 3]\n",
            "[9, 8, 7, 5, 3, 1]\n",
            "[8, 7, 5, 3, 1]\n",
            "[7, 5, 3, 1]\n",
            "[5, 3, 1]\n"
          ]
        }
      ],
      "source": [
        "lista_desordenada = [5, 3, 1, 2, 6]\n",
        "fila = [9, 8, 7] # No debe de tener más de tres elementos - Una regla que yo puse\n",
        "# No significa que todas las filas deban de tener menos de tres elementos\n",
        "\n",
        "for i in lista_desordenada :\n",
        "  # Si el elemento actual de la lista desordenada es menor que el último elemento de la fila, lo añadiremos a la fila\n",
        "  if i < fila[-1] :\n",
        "    fila.append(i)\n",
        "    print(fila)\n",
        "\n",
        "while len(fila) > 3 :\n",
        "  fila.pop(0)\n",
        "  print(fila)\n",
        "\n"
      ]
    },
    {
      "cell_type": "markdown",
      "metadata": {
        "id": "aRMKcHLHDhPt"
      },
      "source": [
        "## Otra forma de hacer colas\n",
        "\n",
        "- `collections.deque` Añadir y quitar datos de ambas puntas de manmera facil. Esto lo debes de usar con `import`\n",
        "\n",
        "- `popleft()` Quitar el primer valor o el últimovalor de la izquierda"
      ]
    },
    {
      "cell_type": "code",
      "execution_count": null,
      "metadata": {
        "colab": {
          "base_uri": "https://localhost:8080/"
        },
        "id": "8sJfYdK3DzE5",
        "outputId": "c96202e4-d835-4d63-890b-72feb52859c4"
      },
      "outputs": [
        {
          "name": "stdout",
          "output_type": "stream",
          "text": [
            "deque(['Jose', 'Katia', 'Maria'])\n",
            "deque(['Jose', 'Katia', 'Maria', 'Xocas'])\n",
            "deque(['Jose', 'Katia', 'Maria', 'Xocas', 'Tu Ex'])\n",
            "deque(['Katia', 'Maria', 'Xocas', 'Tu Ex'])\n",
            "deque(['Katia', 'Maria', 'Xocas', 'Tu Ex', 'Kunno'])\n",
            "deque(['Maria', 'Xocas', 'Tu Ex', 'Kunno'])\n",
            "deque(['Jose', 'Katia', 'Maria'])\n"
          ]
        }
      ],
      "source": [
        "from collections import deque \n",
        "\n",
        "# queue en inglés es fila\n",
        "queue = deque(['Jose', 'Katia', 'Maria'])\n",
        "backup = queue.copy()\n",
        "print(queue)\n",
        "\n",
        "# Llega Xocas\n",
        "queue.append('Xocas')\n",
        "print(queue)\n",
        "\n",
        "# Llega Tu ex\n",
        "queue.append('Tu Ex')\n",
        "print(queue)\n",
        "\n",
        "# Se va el primero que llegó\n",
        "queue.popleft()\n",
        "print(queue)\n",
        "\n",
        "# Llega el Kunno\n",
        "queue.append('Kunno')\n",
        "print(queue)\n",
        "\n",
        "# Se va el que ahora esta en primero\n",
        "queue.popleft()\n",
        "print(queue)\n",
        "\n",
        "\n",
        "# Si llega bill gates, regresan todos\n",
        "print(backup)"
      ]
    },
    {
      "cell_type": "markdown",
      "metadata": {
        "id": "qgl5MbFiFmgQ"
      },
      "source": [
        "# Comprensión de listas\n",
        "\n",
        "Darnos una forma más concisa o práctica o clara o rápida o directa de hacer una lista.\n",
        "\n",
        "- Generar una lista en una sola linea"
      ]
    },
    {
      "cell_type": "code",
      "execution_count": null,
      "metadata": {
        "colab": {
          "base_uri": "https://localhost:8080/"
        },
        "id": "amK8eLSZF2Wt",
        "outputId": "e32ae91c-8fcd-4655-cec9-62387311d84f"
      },
      "outputs": [
        {
          "data": {
            "text/plain": [
              "[0, 1, 4, 9, 16, 25, 36, 49, 64, 81]"
            ]
          },
          "execution_count": 25,
          "metadata": {},
          "output_type": "execute_result"
        }
      ],
      "source": [
        "# Lista de números al cuadrado\n",
        "\n",
        "cuadrados = [] # Definimos una lista vacia\n",
        "\n",
        "for x in range(10) :\n",
        "  cuadrados.append(x ** 2)\n",
        "\n",
        "cuadrados"
      ]
    },
    {
      "cell_type": "markdown",
      "metadata": {
        "id": "7ZVUHQF5Gf4K"
      },
      "source": [
        "- `map()` crea un objeto iterable de lo que le mandes\n",
        "- `lambda` hace que podamos guardar el resultado de una función o un bloque de código en una variable"
      ]
    },
    {
      "cell_type": "code",
      "execution_count": null,
      "metadata": {
        "colab": {
          "base_uri": "https://localhost:8080/"
        },
        "id": "StgfEF_bGP3K",
        "outputId": "c98609b9-200b-4755-ac76-6f37028467de"
      },
      "outputs": [
        {
          "data": {
            "text/plain": [
              "[0, 1, 4, 9, 16, 25, 36, 49, 64, 81]"
            ]
          },
          "execution_count": 26,
          "metadata": {},
          "output_type": "execute_result"
        }
      ],
      "source": [
        "# 1. Tenemos que convertir lo que salga a lista\n",
        "# 2. Usamos map() para crear un iterable de lo que le mandes\n",
        "# 3. Definimos una lambda \n",
        "# 4. Definimos los aumentos por cada iteración\n",
        "# 5. Definimos el rango de números para las iteraciones\n",
        "cuadrados = list(map(lambda x : x ** 2, range(10)))\n",
        "\n",
        "cuadrados"
      ]
    },
    {
      "cell_type": "code",
      "execution_count": null,
      "metadata": {
        "colab": {
          "base_uri": "https://localhost:8080/"
        },
        "id": "8zgzKDbsHRKJ",
        "outputId": "3c08d1c3-19c5-468b-b17a-23c4fab3182d"
      },
      "outputs": [
        {
          "data": {
            "text/plain": [
              "[0, 1, 4, 9, 16, 25, 36, 49, 64, 81]"
            ]
          },
          "execution_count": 27,
          "metadata": {},
          "output_type": "execute_result"
        }
      ],
      "source": [
        "# Otro ejemplo de comprensión de listas\n",
        "# Aquí es como si llamaras al for al reves\n",
        "# Primero llamas lo que esta dentro del for y luego al mismo for\n",
        "# Esto lo podemos traducir así: eleva a la potencia de dos a X PARA cada valor X dentro del RANGO de 0 a 10\n",
        "cuadrados = [x ** 2 for x in range(10)]\n",
        "\n",
        "cuadrados"
      ]
    },
    {
      "cell_type": "markdown",
      "metadata": {
        "id": "YLXF4iW7IGuG"
      },
      "source": [
        "## Comprensión de listas con estructuras anidadas\n",
        "\n",
        "No es lo mismo anidar los for que anidar las comprensiones de listas"
      ]
    },
    {
      "cell_type": "code",
      "execution_count": null,
      "metadata": {
        "colab": {
          "base_uri": "https://localhost:8080/"
        },
        "id": "xAhwf8FRIIar",
        "outputId": "30684a6c-a3b8-4737-a06e-a15883c802cd"
      },
      "outputs": [
        {
          "data": {
            "text/plain": [
              "[(1, 3), (2, 3), (2, 1), (3, 1), (1, 4), (2, 4), (3, 4)]"
            ]
          },
          "execution_count": 34,
          "metadata": {},
          "output_type": "execute_result"
        }
      ],
      "source": [
        "# Esto, es una sola linea de ejecución aunque no lo parezca\n",
        "# milista = [(x, y) for x in [1,2,3] for y in [3,1,4] if x != y]\n",
        "\n",
        "# Esto lo cuenta como una sola linea porque todo esta dentro de los corchetes\n",
        "milista = [(x, y) \n",
        "  for x in [1,2,3] \n",
        "    for y in [3,1,4] \n",
        "      if x != y\n",
        "]\n",
        "\n",
        "milista"
      ]
    },
    {
      "cell_type": "code",
      "execution_count": null,
      "metadata": {
        "colab": {
          "base_uri": "https://localhost:8080/"
        },
        "id": "INJJn_u-Iaa1",
        "outputId": "40815368-af0d-4499-b93e-a2b9a9288e5f"
      },
      "outputs": [
        {
          "data": {
            "text/plain": [
              "[(1, 3), (1, 4), (2, 3), (2, 1), (2, 4), (3, 1), (3, 4)]"
            ]
          },
          "execution_count": 33,
          "metadata": {},
          "output_type": "execute_result"
        }
      ],
      "source": [
        "# Esto da lo mismo que arriba\n",
        "milista = []\n",
        "\n",
        "for x in [1,2,3] :\n",
        "  for y in [3,1,4] :\n",
        "    if x != y :\n",
        "      milista.append((x, y))\n",
        "\n",
        "milista"
      ]
    },
    {
      "cell_type": "markdown",
      "metadata": {
        "id": "YLdzF5-7L0j-"
      },
      "source": [
        "- `str()` Convertir a String. Convierte lo que le metas dentro en String\n",
        "- `round()` Redondear el número que le metas dentro\n",
        "\n",
        "La función `range()` no abarca el número del limite superior. Por ejemplo, `range(1,6)` nos generaría los números: 1,2,3,4,5"
      ]
    },
    {
      "cell_type": "code",
      "execution_count": null,
      "metadata": {
        "colab": {
          "base_uri": "https://localhost:8080/"
        },
        "id": "xVk-ydgJKPmE",
        "outputId": "34f606da-51f5-438c-fa9e-611cd9ef78c2"
      },
      "outputs": [
        {
          "data": {
            "text/plain": [
              "['3.1', '3.14', '3.142', '3.1416', '3.14159']"
            ]
          },
          "execution_count": 38,
          "metadata": {},
          "output_type": "execute_result"
        }
      ],
      "source": [
        "from math import pi # Esto nos importa el número PI\n",
        "\n",
        "pis = [str(round(pi, i)) for i in range(1, 6)]\n",
        "\n",
        "pis"
      ]
    },
    {
      "cell_type": "markdown",
      "metadata": {
        "id": "Pgm1cNu-dmuy"
      },
      "source": [
        "# Listas por comprensión anidadas\n",
        "\n",
        "Una expresión de comprensión de listas puede albergar otra comprensión de listas"
      ]
    },
    {
      "cell_type": "code",
      "execution_count": 16,
      "metadata": {
        "colab": {
          "base_uri": "https://localhost:8080/"
        },
        "id": "xSuZdJIged7Y",
        "outputId": "f5bd14ff-670a-470e-dcd5-b2e587a6dc86"
      },
      "outputs": [
        {
          "data": {
            "text/plain": [
              "[[1, 2, 3, 4], [5, 6, 7, 8], [9, 10, 11, 12]]"
            ]
          },
          "execution_count": 16,
          "metadata": {},
          "output_type": "execute_result"
        }
      ],
      "source": [
        "matriz = [\n",
        "  [1, 2, 3, 4],\n",
        "  [5, 6, 7, 8],\n",
        "  [9, 10, 11, 12]\n",
        "]\n",
        "\n",
        "matriz"
      ]
    },
    {
      "cell_type": "code",
      "execution_count": 4,
      "metadata": {
        "colab": {
          "base_uri": "https://localhost:8080/"
        },
        "id": "jFZBjKJhehG2",
        "outputId": "bd5af3aa-75cc-49da-f54e-dba62543b32d"
      },
      "outputs": [
        {
          "data": {
            "text/plain": [
              "[[1, 5, 9], [2, 6, 10], [3, 7, 11], [4, 8, 12]]"
            ]
          },
          "execution_count": 4,
          "metadata": {},
          "output_type": "execute_result"
        }
      ],
      "source": [
        "# Con comprensión de listas anidada\n",
        "[ [row[i] for row in matriz] for i in range(4)]"
      ]
    },
    {
      "cell_type": "code",
      "execution_count": 14,
      "metadata": {
        "colab": {
          "base_uri": "https://localhost:8080/"
        },
        "id": "uOYARjpEfJ2a",
        "outputId": "c7f09e06-1343-4985-da7e-fd4ee1dbe517"
      },
      "outputs": [
        {
          "name": "stdout",
          "output_type": "stream",
          "text": [
            "1\n",
            "2\n",
            "2\n",
            "3\n",
            "3\n",
            "3\n"
          ]
        },
        {
          "data": {
            "text/plain": [
              "[[], [[]], [[], [[]]], [[], [[]], [[], [[]]]]]"
            ]
          },
          "execution_count": 14,
          "metadata": {},
          "output_type": "execute_result"
        }
      ],
      "source": [
        "# Sin comprensión de lista anidada\n",
        "matriz = []\n",
        "for j in range(4) :\n",
        "  matriz_row = []\n",
        "  for row in matriz :\n",
        "    print(j)\n",
        "    matriz_row.append(row)\n",
        "  matriz.append(matriz_row)\n",
        "\n",
        "matriz"
      ]
    },
    {
      "cell_type": "markdown",
      "metadata": {
        "id": "eQFlJJ5fhKQH"
      },
      "source": [
        "- `zip()` Itera sobre varios iterables en paralelo y genera tuplas copn un item para cada una. \n",
        "\n",
        "Aquí podríamos decir que estamos voltieando la matriz\n",
        "\n",
        "- `*` desempaquetado de listas de argumentos - El operador `*` obtener los elementos en una lista y poner sus correspondientes en tuplas"
      ]
    },
    {
      "cell_type": "code",
      "execution_count": 19,
      "metadata": {
        "colab": {
          "base_uri": "https://localhost:8080/"
        },
        "id": "xaOV6KipfMdS",
        "outputId": "4c479f08-ebeb-4345-b040-59335caee9e0"
      },
      "outputs": [
        {
          "data": {
            "text/plain": [
              "[(1, 5, 9), (2, 6, 10), (3, 7, 11), (4, 8, 12)]"
            ]
          },
          "execution_count": 19,
          "metadata": {},
          "output_type": "execute_result"
        }
      ],
      "source": [
        "list(zip(*matriz))"
      ]
    },
    {
      "cell_type": "markdown",
      "metadata": {
        "id": "b6IS_IUgh_6_"
      },
      "source": [
        "# Técnicas de iteración"
      ]
    },
    {
      "cell_type": "code",
      "execution_count": 25,
      "metadata": {
        "colab": {
          "base_uri": "https://localhost:8080/"
        },
        "id": "U6jvNfFNiOcc",
        "outputId": "42921b27-9b5a-454e-bf3a-4cdfdaa672a0"
      },
      "outputs": [
        {
          "name": "stdout",
          "output_type": "stream",
          "text": [
            "Carlos El valiente\n",
            "Teodoro El godo\n",
            "Guillermo Del toro\n",
            "Cesar El Grande\n",
            "Alejandro Magno\n",
            "Gengis Khan\n",
            "AlejandroII De macedonia\n"
          ]
        }
      ],
      "source": [
        "# Diccionario \n",
        "caballeros = {\n",
        "    \"Carlos\": \"El valiente\",\n",
        "    \"Teodoro\": \"El godo\",\n",
        "    \"Guillermo\": \"Del toro\",\n",
        "    \"Cesar\": \"El Grande\",\n",
        "    \"Alejandro\": \"Magno\",\n",
        "    \"Gengis\": \"Khan\",\n",
        "    \"AlejandroII\" : \"De macedonia\"\n",
        "}\n",
        "\n",
        "# Puedo poner dos variables en el for\n",
        "for k, v in caballeros.items() :\n",
        "  print(k, v)\n",
        "\n"
      ]
    },
    {
      "cell_type": "markdown",
      "metadata": {
        "id": "y6E6SBCGkokK"
      },
      "source": [
        "- `enumerate()` nos da el contador de un bucle.- Por cada elemento de la lista que le pasemos entonces nos pone un contador asociado a ese elemento."
      ]
    },
    {
      "cell_type": "code",
      "execution_count": 28,
      "metadata": {
        "colab": {
          "base_uri": "https://localhost:8080/"
        },
        "id": "PBtvJI_bkSeD",
        "outputId": "9f1067e7-567c-45e6-a426-91cfb232b2b7"
      },
      "outputs": [
        {
          "name": "stdout",
          "output_type": "stream",
          "text": [
            "0 tic\n",
            "1 tac\n",
            "2 toe\n"
          ]
        }
      ],
      "source": [
        "# Ejemplo 2\n",
        "\n",
        "for i, v in enumerate(['tic', 'tac', 'toe']) :\n",
        "  print(i, v)"
      ]
    },
    {
      "cell_type": "code",
      "execution_count": 33,
      "metadata": {
        "colab": {
          "base_uri": "https://localhost:8080/"
        },
        "id": "7UYV38IrlMzu",
        "outputId": "231d9c5a-d527-4126-f8f0-1faa2e83a4f6"
      },
      "outputs": [
        {
          "name": "stdout",
          "output_type": "stream",
          "text": [
            "¿Cuál es tu nombre? Es Don quijote\n",
            "¿Cuál es tu misión? Es Rescatar a Dulcinea\n",
            "¿Cuál es tu color de armadura? Es Gris\n",
            "<zip object at 0x7f09e97c9370>\n"
          ]
        }
      ],
      "source": [
        "# Ejemplo 3\n",
        "preguntas = ['nombre', 'misión', 'color de armadura']\n",
        "respuestas = ['Don quijote', 'Rescatar a Dulcinea', 'Gris']\n",
        "\n",
        "# Con zip() estoy iterando sobre dos listas al mismo tiempo\n",
        "for q, a in zip(preguntas, respuestas) :\n",
        "  print('¿Cuál es tu {0}? Es {1}'.format(q, a)) # Para concatenaer\n",
        "\n"
      ]
    },
    {
      "cell_type": "markdown",
      "metadata": {
        "id": "xZWgyRq0nGOJ"
      },
      "source": [
        " - `reversed()` darnosa el orden inverso de la lista\n",
        " - `range(start, stop, step)`"
      ]
    },
    {
      "cell_type": "code",
      "execution_count": 39,
      "metadata": {
        "colab": {
          "base_uri": "https://localhost:8080/"
        },
        "id": "zYp0KY58mqqc",
        "outputId": "27bcf4ee-552f-479f-a271-739fb356bc1c"
      },
      "outputs": [
        {
          "name": "stdout",
          "output_type": "stream",
          "text": [
            "9\n",
            "7\n",
            "5\n",
            "3\n",
            "1\n"
          ]
        }
      ],
      "source": [
        "# range(1, 10, 2) Esto nos genera una lista del 1 hasta el 10 que se irá de 2 en 2\n",
        "# El 10 no lo toma o cuando se deitne\n",
        "\n",
        "for i in reversed(range(1, 10, 2)) :\n",
        "  print(i)"
      ]
    },
    {
      "cell_type": "markdown",
      "metadata": {
        "id": "VUEMxQEbnfrP"
      },
      "source": [
        "## Serie fibonacci con For\n",
        "\n",
        "La forma más fácil es hacerlo con funciones. Pero copmo hasta ahora no las hemos visto, entonces será con for."
      ]
    },
    {
      "cell_type": "code",
      "execution_count": 47,
      "metadata": {
        "colab": {
          "base_uri": "https://localhost:8080/"
        },
        "id": "-7vS4t6joUz6",
        "outputId": "d15de20d-f6d9-4ab3-fff1-c261a3caeb0b"
      },
      "outputs": [
        {
          "name": "stdout",
          "output_type": "stream",
          "text": [
            "0\n",
            "1\n",
            "1\n",
            "2\n",
            "3\n",
            "5\n",
            "8\n",
            "13\n",
            "21\n",
            "34\n",
            "55\n",
            "89\n",
            "144\n",
            "233\n",
            "377\n",
            "610\n",
            "987\n",
            "1597\n",
            "2584\n",
            "4181\n"
          ]
        }
      ],
      "source": [
        "# Valores inciales\n",
        "a = 1\n",
        "b = 1 \n",
        "\n",
        "n = 20 # Numero de repeticiones\n",
        "\n",
        "if n == 1 :\n",
        "  print('0')\n",
        "elif n == 2 :\n",
        "  print('0', '1')\n",
        "else :\n",
        "  print('0')\n",
        "  print(a)\n",
        "  print(b)\n",
        "  for i in range(n - 3) :\n",
        "    total = a + b\n",
        "    b = a\n",
        "    a = total\n",
        "    print(total)"
      ]
    },
    {
      "cell_type": "markdown",
      "metadata": {
        "id": "cfCwmhubqPH8"
      },
      "source": [
        "# Ejercicio pa la casa\n",
        "\n",
        "1. Vas a crear un diccionario anidado donde guarde la información de los alumnos con una lista de las 3 calificaciones que obtuvieron en el semestre.\n",
        "\n",
        "2. Vas a promediar esas calficaciones y obtener el alumno que mejor promedio tenga\n",
        "\n",
        "3. Lo mismo pero copn el peor alumno\n",
        "\n",
        "4. Vas a imprimir todos los alummnos y por cada uno, si tienen una calificación mayor a 7 pasan, si no:1\n",
        "\n",
        "![Hay tabla](https://www.okchicas.com/wp-content/uploads/2022/06/29f1ce13404016926a901a7b60df5ad716a5d963_hq.gif)\n",
        "\n",
        "**NOTA: No debes imprimir el GIF**"
      ]
    }
  ],
  "metadata": {
    "colab": {
      "collapsed_sections": [],
      "provenance": []
    },
    "kernelspec": {
      "display_name": "Python 3",
      "name": "python3"
    },
    "language_info": {
      "name": "python"
    }
  },
  "nbformat": 4,
  "nbformat_minor": 0
}
