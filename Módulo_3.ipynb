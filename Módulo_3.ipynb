{
  "nbformat": 4,
  "nbformat_minor": 0,
  "metadata": {
    "colab": {
      "provenance": [],
      "collapsed_sections": []
    },
    "kernelspec": {
      "name": "python3",
      "display_name": "Python 3"
    },
    "language_info": {
      "name": "python"
    }
  },
  "cells": [
    {
      "cell_type": "markdown",
      "source": [
        "# Estructuras de datos\n",
        "\n",
        "Forma de acomodar los datos. Esto puede alterar:\n",
        "1. El performance del programa\n",
        "2. El comportamiento del programa\n",
        "3. Una entrevista de trabajo (Es muy común que en empresas grandes te preguntes sobre esto)\n",
        "\n",
        "## Pilas\n",
        "Tienen un esquema Last in- First Out (LIFO), es decir, el último que entra es el primero que sale."
      ],
      "metadata": {
        "id": "RN2fJb6z-Z2y"
      }
    },
    {
      "cell_type": "code",
      "execution_count": 3,
      "metadata": {
        "colab": {
          "base_uri": "https://localhost:8080/"
        },
        "id": "zk2nWECk-IZd",
        "outputId": "caf50998-430f-4b9e-aeae-eb3d36329b0b"
      },
      "outputs": [
        {
          "output_type": "stream",
          "name": "stdout",
          "text": [
            "[3, 5, 6, 7, 10]\n",
            "[3, 5, 6, 7]\n",
            "[3, 5, 6]\n",
            "[3, 5]\n"
          ]
        }
      ],
      "source": [
        "stack = [3, 5, 6] # Stack es solo el nombre de la variable\n",
        "\n",
        "stack.append(7)\n",
        "stack.append(10)\n",
        "\n",
        "print(stack)\n",
        "\n",
        "stack.pop()\n",
        "print(stack)\n",
        "\n",
        "stack.pop()\n",
        "print(stack)\n",
        "\n",
        "stack.pop()\n",
        "print(stack)"
      ]
    },
    {
      "cell_type": "markdown",
      "source": [
        "# Fila - Cola\n",
        "\n",
        "Tiene un esquema FIFO. First in-First Out. El primero que entra, es el primero que sale. \n",
        "\n",
        "- `[-1]` Usar el indice -1 siempre nos dirigirá al último elemento de la lista sea cual sea\n",
        "- Lo indices negativos recorren la lista de derecha a izquierda o de delatne para atras. Por ejemplo, el indice `[-2]` nos daría el penultimo valor"
      ],
      "metadata": {
        "id": "5mNFC525Ahgb"
      }
    },
    {
      "cell_type": "code",
      "source": [
        "lista_desordenada = [5, 3, 1, 2, 6]\n",
        "fila = [9, 8, 7] # No debe de tener más de tres elementos - Una regla que yo puse\n",
        "# No significa que todas las filas deban de tener menos de tres elementos\n",
        "\n",
        "for i in lista_desordenada :\n",
        "  # Si el elemento actual de la lista desordenada es menor que el último elemento de la fila, lo añadiremos a la fila\n",
        "  if i < fila[-1] :\n",
        "    fila.append(i)\n",
        "    print(fila)\n",
        "\n",
        "while len(fila) > 3 :\n",
        "  fila.pop(0)\n",
        "  print(fila)\n",
        "\n"
      ],
      "metadata": {
        "colab": {
          "base_uri": "https://localhost:8080/"
        },
        "id": "1_1UGS69A9mE",
        "outputId": "2fc43287-bdba-47f9-9e84-1d649492f33f"
      },
      "execution_count": 13,
      "outputs": [
        {
          "output_type": "stream",
          "name": "stdout",
          "text": [
            "[9, 8, 7, 5]\n",
            "[9, 8, 7, 5, 3]\n",
            "[9, 8, 7, 5, 3, 1]\n",
            "[8, 7, 5, 3, 1]\n",
            "[7, 5, 3, 1]\n",
            "[5, 3, 1]\n"
          ]
        }
      ]
    },
    {
      "cell_type": "markdown",
      "source": [
        "## Otra forma de hacer colas\n",
        "\n",
        "- `collections.deque` Añadir y quitar datos de ambas puntas de manmera facil. Esto lo debes de usar con `import`\n",
        "\n",
        "- `popleft()` Quitar el primer valor o el últimovalor de la izquierda"
      ],
      "metadata": {
        "id": "aRMKcHLHDhPt"
      }
    },
    {
      "cell_type": "code",
      "source": [
        "from collections import deque \n",
        "\n",
        "# queue en inglés es fila\n",
        "queue = deque(['Jose', 'Katia', 'Maria'])\n",
        "backup = queue.copy()\n",
        "print(queue)\n",
        "\n",
        "# Llega Xocas\n",
        "queue.append('Xocas')\n",
        "print(queue)\n",
        "\n",
        "# Llega Tu ex\n",
        "queue.append('Tu Ex')\n",
        "print(queue)\n",
        "\n",
        "# Se va el primero que llegó\n",
        "queue.popleft()\n",
        "print(queue)\n",
        "\n",
        "# Llega el Kunno\n",
        "queue.append('Kunno')\n",
        "print(queue)\n",
        "\n",
        "# Se va el que ahora esta en primero\n",
        "queue.popleft()\n",
        "print(queue)\n",
        "\n",
        "\n",
        "# Si llega bill gates, regresan todos\n",
        "print(backup)"
      ],
      "metadata": {
        "colab": {
          "base_uri": "https://localhost:8080/"
        },
        "id": "8sJfYdK3DzE5",
        "outputId": "c96202e4-d835-4d63-890b-72feb52859c4"
      },
      "execution_count": 24,
      "outputs": [
        {
          "output_type": "stream",
          "name": "stdout",
          "text": [
            "deque(['Jose', 'Katia', 'Maria'])\n",
            "deque(['Jose', 'Katia', 'Maria', 'Xocas'])\n",
            "deque(['Jose', 'Katia', 'Maria', 'Xocas', 'Tu Ex'])\n",
            "deque(['Katia', 'Maria', 'Xocas', 'Tu Ex'])\n",
            "deque(['Katia', 'Maria', 'Xocas', 'Tu Ex', 'Kunno'])\n",
            "deque(['Maria', 'Xocas', 'Tu Ex', 'Kunno'])\n",
            "deque(['Jose', 'Katia', 'Maria'])\n"
          ]
        }
      ]
    },
    {
      "cell_type": "markdown",
      "source": [
        "# Comprensión de listas\n",
        "\n",
        "Darnos una forma más concisa o práctica o clara o rápida o directa de hacer una lista.\n",
        "\n",
        "- Generar una lista en una sola linea"
      ],
      "metadata": {
        "id": "qgl5MbFiFmgQ"
      }
    },
    {
      "cell_type": "code",
      "source": [
        "# Lista de números al cuadrado\n",
        "\n",
        "cuadrados = [] # Definimos una lista vacia\n",
        "\n",
        "for x in range(10) :\n",
        "  cuadrados.append(x ** 2)\n",
        "\n",
        "cuadrados"
      ],
      "metadata": {
        "colab": {
          "base_uri": "https://localhost:8080/"
        },
        "id": "amK8eLSZF2Wt",
        "outputId": "e32ae91c-8fcd-4655-cec9-62387311d84f"
      },
      "execution_count": 25,
      "outputs": [
        {
          "output_type": "execute_result",
          "data": {
            "text/plain": [
              "[0, 1, 4, 9, 16, 25, 36, 49, 64, 81]"
            ]
          },
          "metadata": {},
          "execution_count": 25
        }
      ]
    },
    {
      "cell_type": "markdown",
      "source": [
        "- `map()` crea un objeto iterable de lo que le mandes\n",
        "- `lambda` hace que podamos guardar el resultado de una función o un bloque de código en una variable"
      ],
      "metadata": {
        "id": "7ZVUHQF5Gf4K"
      }
    },
    {
      "cell_type": "code",
      "source": [
        "# 1. Tenemos que convertir lo que salga a lista\n",
        "# 2. Usamos map() para crear un iterable de lo que le mandes\n",
        "# 3. Definimos una lambda \n",
        "# 4. Definimos los aumentos por cada iteración\n",
        "# 5. Definimos el rango de números para las iteraciones\n",
        "cuadrados = list(map(lambda x : x ** 2, range(10)))\n",
        "\n",
        "cuadrados"
      ],
      "metadata": {
        "colab": {
          "base_uri": "https://localhost:8080/"
        },
        "id": "StgfEF_bGP3K",
        "outputId": "c98609b9-200b-4755-ac76-6f37028467de"
      },
      "execution_count": 26,
      "outputs": [
        {
          "output_type": "execute_result",
          "data": {
            "text/plain": [
              "[0, 1, 4, 9, 16, 25, 36, 49, 64, 81]"
            ]
          },
          "metadata": {},
          "execution_count": 26
        }
      ]
    },
    {
      "cell_type": "code",
      "source": [
        "# Otro ejemplo de comprensión de listas\n",
        "# Aquí es como si llamaras al for al reves\n",
        "# Primero llamas lo que esta dentro del for y luego al mismo for\n",
        "# Esto lo podemos traducir así: eleva a la potencia de dos a X PARA cada valor X dentro del RANGO de 0 a 10\n",
        "cuadrados = [x ** 2 for x in range(10)]\n",
        "\n",
        "cuadrados"
      ],
      "metadata": {
        "colab": {
          "base_uri": "https://localhost:8080/"
        },
        "id": "8zgzKDbsHRKJ",
        "outputId": "3c08d1c3-19c5-468b-b17a-23c4fab3182d"
      },
      "execution_count": 27,
      "outputs": [
        {
          "output_type": "execute_result",
          "data": {
            "text/plain": [
              "[0, 1, 4, 9, 16, 25, 36, 49, 64, 81]"
            ]
          },
          "metadata": {},
          "execution_count": 27
        }
      ]
    },
    {
      "cell_type": "markdown",
      "source": [
        "## Comprensión de listas con estructuras anidadas\n",
        "\n",
        "No es lo mismo anidar los for que anidar las comprensiones de listas"
      ],
      "metadata": {
        "id": "YLXF4iW7IGuG"
      }
    },
    {
      "cell_type": "code",
      "source": [
        "# Esto, es una sola linea de ejecución aunque no lo parezca\n",
        "# milista = [(x, y) for x in [1,2,3] for y in [3,1,4] if x != y]\n",
        "\n",
        "# Esto lo cuenta como una sola linea porque todo esta dentro de los corchetes\n",
        "milista = [(x, y) \n",
        "  for x in [1,2,3] \n",
        "    for y in [3,1,4] \n",
        "      if x != y\n",
        "]\n",
        "\n",
        "milista"
      ],
      "metadata": {
        "colab": {
          "base_uri": "https://localhost:8080/"
        },
        "id": "xAhwf8FRIIar",
        "outputId": "30684a6c-a3b8-4737-a06e-a15883c802cd"
      },
      "execution_count": 34,
      "outputs": [
        {
          "output_type": "execute_result",
          "data": {
            "text/plain": [
              "[(1, 3), (2, 3), (2, 1), (3, 1), (1, 4), (2, 4), (3, 4)]"
            ]
          },
          "metadata": {},
          "execution_count": 34
        }
      ]
    },
    {
      "cell_type": "code",
      "source": [
        "# Esto da lo mismo que arriba\n",
        "milista = []\n",
        "\n",
        "for x in [1,2,3] :\n",
        "  for y in [3,1,4] :\n",
        "    if x != y :\n",
        "      milista.append((x, y))\n",
        "\n",
        "milista"
      ],
      "metadata": {
        "colab": {
          "base_uri": "https://localhost:8080/"
        },
        "id": "INJJn_u-Iaa1",
        "outputId": "40815368-af0d-4499-b93e-a2b9a9288e5f"
      },
      "execution_count": 33,
      "outputs": [
        {
          "output_type": "execute_result",
          "data": {
            "text/plain": [
              "[(1, 3), (1, 4), (2, 3), (2, 1), (2, 4), (3, 1), (3, 4)]"
            ]
          },
          "metadata": {},
          "execution_count": 33
        }
      ]
    },
    {
      "cell_type": "markdown",
      "source": [
        "- `str()` Convertir a String. Convierte lo que le metas dentro en String\n",
        "- `round()` Redondear el número que le metas dentro\n",
        "\n",
        "La función `range()` no abarca el número del limite superior. Por ejemplo, `range(1,6)` nos generaría los números: 1,2,3,4,5"
      ],
      "metadata": {
        "id": "YLdzF5-7L0j-"
      }
    },
    {
      "cell_type": "code",
      "source": [
        "from math import pi # Esto nos importa el número PI\n",
        "\n",
        "pis = [str(round(pi, i)) for i in range(1, 6)]\n",
        "\n",
        "pis"
      ],
      "metadata": {
        "colab": {
          "base_uri": "https://localhost:8080/"
        },
        "id": "xVk-ydgJKPmE",
        "outputId": "34f606da-51f5-438c-fa9e-611cd9ef78c2"
      },
      "execution_count": 38,
      "outputs": [
        {
          "output_type": "execute_result",
          "data": {
            "text/plain": [
              "['3.1', '3.14', '3.142', '3.1416', '3.14159']"
            ]
          },
          "metadata": {},
          "execution_count": 38
        }
      ]
    }
  ]
}