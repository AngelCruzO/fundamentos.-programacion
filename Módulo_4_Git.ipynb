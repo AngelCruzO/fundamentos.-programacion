{
  "nbformat": 4,
  "nbformat_minor": 0,
  "metadata": {
    "colab": {
      "provenance": [],
      "collapsed_sections": []
    },
    "kernelspec": {
      "name": "python3",
      "display_name": "Python 3"
    },
    "language_info": {
      "name": "python"
    }
  },
  "cells": [
    {
      "cell_type": "markdown",
      "source": [
        "# Git y Github\n",
        "\n",
        "Git es un controlador de versiones de software. Nos pemite, hacer subversiones de un programa, unir versiones, regresar a una versión anterior...\n",
        "\n",
        "No es lo mismo Git a GitHub. GitHub es un lugar o una plataforma en la nube donde se guardan repositorio de Git\n",
        "\n",
        "Un repositorio es un proyecto de software junto con todo su historial de versiones.\n",
        "\n",
        "1. Necesitas descargar Git desde acá -> https://git-scm.com/\n",
        "2. Verificar la variable de entorno\n",
        "3. Poner tu SSH en GitHub\n",
        "4. Hacer tu archivo gitignore"
      ],
      "metadata": {
        "id": "GUUoQZOh86Q7"
      }
    },
    {
      "cell_type": "markdown",
      "source": [
        "## Comandos de Git\n",
        "\n",
        "- `git init` Iniciar el repo de Git\n",
        "- `git add ` Añadir los cambios para el futuro `commit`\n",
        "  - `.` añades TODOS los cambios\n",
        "  - `NOMBRE_DE_CARPETA` Añades todos los cambios dentro de la carpeta\n",
        "  - `NOMBRE_ARCHIVO` añades todos los cambios de un archivo\n",
        "- `git reset ` Quitar los cambios para el futuro `commit`. En otras palabras, revierte el `git add`\n",
        "  - `.` añades TODOS los cambios\n",
        "  - `NOMBRE_DE_CARPETA` Añades todos los cambios dentro de la carpeta\n",
        "  - `NOMBRE_ARCHIVO` añades todos los cambios de un archivo\n",
        "- `git branch` Te dice en que rama estás\n",
        "  - `git branch NOMBRE_RAMA` Crea una rama si no existe\n",
        "- `git checkout NOMBRE_RAMA` Cambiar a la otra rama\n",
        "- `git remote add NOMBRE_ORIGEN URL_ORIGEN` agrega un repositorio remoto (GitHub. GitLab, BitBucket, Azure Repos...) al repo local\n",
        "- `git remote -v ` Para verificar todos los origenes remotos que tenemos en nuetro repo\n",
        "- `git push` sube los cambios al repo remoto qaue le indiques\n",
        "\n",
        "- `git tag VERSION` Para subir un tag o versión al repositorio, por ejemplo, la versión 1.0 del software cuando este \"terminado\""
      ],
      "metadata": {
        "id": "COK_QzC2Ior1"
      }
    },
    {
      "cell_type": "markdown",
      "source": [
        "## Path vs Relative Path\n",
        "\n",
        "D:\\jose1\\Descargas\\amarre\\audio.mp3 <- Path Absoluta\n",
        "\n",
        "video.mp4 <- Relative Path\n",
        "\n",
        "El **Path Absoluto** es la ruta de un archivo desde el inicio o raíz del equipo host, por ejemplo, desde la compu, desde el disco C.\n",
        "\n",
        "El **Relative Path** es la ruta desde la raiz o inicio de la carpeta del proyecto"
      ],
      "metadata": {
        "id": "P6Z0pawKIAa1"
      }
    },
    {
      "cell_type": "markdown",
      "source": [
        "Puedes consultar el repo de prueba aquí: https://github.com/josejesusguzman/amarre"
      ],
      "metadata": {
        "id": "FF5XvR8sQVTk"
      }
    }
  ]
}