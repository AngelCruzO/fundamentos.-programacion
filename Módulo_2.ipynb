{
  "cells": [
    {
      "cell_type": "markdown",
      "metadata": {
        "id": "jruXSqGn7ZoA"
      },
      "source": [
        "# Estructuras de control\n",
        "\n",
        "Controla el flujo de la información y la ejecución del programa.\n",
        "\n",
        "# IF - If/else - elif\n",
        "\n",
        "- `IF` es para preguntar una condición y si esta es TRUE o verdadera se ejecuta su código\n",
        "- `ELSE` Si no, haz esto. Este se ejecuta SI TODAS LAS CONDICIONES ANTERIORES NO SE CUMPLEN. O En otras palabras, si el If no se cumple \n",
        "- `ELFI` Nos deja poner N cantidad de condiciones si el primer IF o el anterior ELIF no se cumplen\n",
        "\n",
        "Cuando una condición es verdadera, ya no se evaluan las siiguientes\n",
        "\n",
        "En Python no existe Switch/Case"
      ]
    },
    {
      "cell_type": "code",
      "execution_count": null,
      "metadata": {
        "colab": {
          "base_uri": "https://localhost:8080/"
        },
        "id": "99AQY6DG54pu",
        "outputId": "183bb837-b1eb-4b01-fd7b-3c1da5408404"
      },
      "outputs": [
        {
          "name": "stdout",
          "output_type": "stream",
          "text": [
            "Introduce tu edad: 13\n",
            "¿Traes viagra? 1=Sí, 0=No: 1\n",
            "1\n",
            "Estas morrito, no puedes pasar\n",
            "La llamamos a tus papás\n"
          ]
        }
      ],
      "source": [
        "# Validador de que puede entrar a YouTube Naranja \n",
        "\n",
        "edad = int(input(\"Introduce tu edad: \"))\n",
        "viagra = int(input(\"¿Traes viagra? 1=Sí, 0=No: \"))\n",
        "\n",
        "# Bool True/False True = Si, Encendido o 1 - False = No, Apagado o 0\n",
        "\n",
        "print(viagra)\n",
        "\n",
        "if edad >= 18 and edad <= 115 : \n",
        "  print(\"DISFRUTA de nuestro contenido ¬¬\")\n",
        "  print(\"Sonrie niño, te estamos grabando\")\n",
        "elif edad < 18 and edad > 0 : # Lo mismo que poner edad <= 17\n",
        "  print(\"Estas morrito, no puedes pasar\")\n",
        "  print(\"La llamamos a tus papás\")\n",
        "elif edad >= 115 and viagra == 1: # Si la persona tiene más de 114 pero tiene viagra\n",
        "  print(\"DISFRUTA de nuestro contenido ¬¬\")\n",
        "  print(\"Sonrie niño, te estamos grabando\")\n",
        "elif edad >= 115:\n",
        "  print(\"Pero si tu ya ni puedes. Lo siento, acceso restringido\")\n",
        "else : # Para validar los números negativos\n",
        "  print(\"No puedes pasar, no estas poniendo una edad correcta\")"
      ]
    },
    {
      "cell_type": "markdown",
      "metadata": {
        "id": "MuLykTLxG0JY"
      },
      "source": [
        "# WHILE\n",
        "Significa MIENTRAS. Mientras esto sea verdad, se ejecuta el código dentro.\n",
        "\n",
        "- `while` Mientras la condicion sea True, se ejecuta lo de adentro del while\n",
        "\n",
        "- `break ` sirve para romer ciclos. Cuando el código llegue al `break`, se termina el while sin excepción\n",
        "\n",
        "______________\n",
        "\n",
        "- `import` nos importa o adiciona una biblioteca de funciones a nuestro programa\n",
        "\n",
        "En este caso estamos añadiendo la datetime -> https://docs.python.org/3/library/datetime.html\n",
        "\n",
        "El while se usa cuando queremos iterar y preguntar si una condición es verdadera. MIENTRAS la condición sea verdadera, se ejecuta el While."
      ]
    },
    {
      "cell_type": "code",
      "execution_count": null,
      "metadata": {
        "colab": {
          "base_uri": "https://localhost:8080/"
        },
        "id": "SA5X_UHfHpHP",
        "outputId": "0a42bcd1-db29-46d8-cdab-c9c6ed225dc4"
      },
      "outputs": [
        {
          "name": "stdout",
          "output_type": "stream",
          "text": [
            "Hoy es 2022-09-07 04:45:26.437135\n",
            "#ningunSoldadoCaido\n",
            "Hoy es 2022-10-07 04:45:26.437135\n",
            "¬¬\n",
            "Hoy es 2022-11-06 04:45:26.437135\n",
            "¬¬\n",
            "Hoy es 2022-12-06 04:45:26.437135\n",
            "¬¬\n",
            "::::::::\n",
            "Años hasta ahora 4046\n"
          ]
        }
      ],
      "source": [
        "from datetime import datetime # Importar una biblioteca de funciones\n",
        "from datetime import timedelta\n",
        "\n",
        "fecha = \"2022-01-06\"\n",
        "fecha = datetime.now() # Fecha actual\n",
        "\n",
        "#fecha = datetime.strptime(fecha, \"%Y-%m-%d\")\n",
        "mes = timedelta(days=30) # Esto equivale a un mes\n",
        "\n",
        "# Para guardar el valor del año actual más uno y poder correr en cualquier año sin modificar el programa\n",
        "anio_despues = fecha.year + 1\n",
        "\n",
        "\n",
        "while fecha.year < anio_despues : # Mientras estemos en el año actual, se ejecuta el código\n",
        "\n",
        "  print(\"Hoy es\", fecha) # Imprimimos fecha\n",
        "  if fecha.month == 9 : # Si el mes es igual a septiembre?\n",
        "    fap = False\n",
        "    print(\"#ningunSoldadoCaido\")\n",
        "  else : # Si el mes no es septiembre\n",
        "    fap = True\n",
        "    print(\"¬¬\")\n",
        "\n",
        "  fecha += mes # Le sumamos otro mes\n",
        "\n",
        "# Esto se va a ejecutar hasta que el año cambie al siguiente\n",
        "  "
      ]
    },
    {
      "cell_type": "markdown",
      "metadata": {
        "id": "uH_oxvtNPik0"
      },
      "source": [
        "# Ciclo FOR\n",
        "\n",
        "- `FOR` para. **PARA** todos los elementos de X. X puede ser una colección o listado de elementos.\n",
        "\n",
        "Es decir, que vamos a hacer una acción por cada elemento de ese listado.\n",
        "\n",
        "El for se usa para iterar o hacer repetidamente algo, sobre una lista de elementos\n",
        "\n",
        "La función `range(N)` Nos da una lista de números desde el cero hasta el número que lo pongamos en N menos 1. Es decir, que si le ponemos un 10, nos genera una lista desde el 0 hasta el 9\n",
        "\n",
        "_______________________________\n",
        "\n",
        "- `continue`: Pasar a la siguiente iteración del ciclo ignorando el código que sigue. "
      ]
    },
    {
      "cell_type": "code",
      "execution_count": null,
      "metadata": {
        "colab": {
          "base_uri": "https://localhost:8080/"
        },
        "id": "3S16uHZuOhih",
        "outputId": "b38bb76f-678b-44c3-9583-f02700f731fc"
      },
      "outputs": [
        {
          "name": "stdout",
          "output_type": "stream",
          "text": [
            "3\n",
            "4\n",
            "5\n",
            "6\n",
            "7\n",
            "8\n",
            "9\n",
            "10\n",
            "0\n",
            "1\n",
            "2\n",
            "3\n",
            "4\n",
            "5\n",
            "Python\n",
            "Java\n",
            "JavaScript\n",
            "Swift\n",
            "Sal de ahí HTML, esa no es tu familia\n",
            "Kotlin\n",
            "Dart\n",
            "C\n",
            "C#\n"
          ]
        }
      ],
      "source": [
        "for i in range(2, 10) : # Scope local\n",
        "  print(i + 1)\n",
        "\n",
        "numero_final = 5\n",
        "for i in range(10) :\n",
        "  print(i)\n",
        "  if i == numero_final :\n",
        "    break\n",
        "\n",
        "# Lenguajes de programación\n",
        "for i in [\"Python\", \"Java\", \"JavaScript\", \"Swift\", \"HTML\", \"Kotlin\", \"Dart\", \"C\", \"C#\"] :\n",
        "  if i == \"HTML\" :\n",
        "    print(f\"Sal de ahí {i}, esa no es tu familia\")\n",
        "  else :\n",
        "    print(i)"
      ]
    },
    {
      "cell_type": "code",
      "execution_count": null,
      "metadata": {
        "colab": {
          "base_uri": "https://localhost:8080/"
        },
        "id": "eiWLdlw_aBao",
        "outputId": "3c44fb79-7fbd-461d-e36f-179aebc0744c"
      },
      "outputs": [
        {
          "name": "stdout",
          "output_type": "stream",
          "text": [
            "2 - 3 - 5 - 7 - 11 - 13 - 17 - 19 - 23 - 29 - 31 - 37 - 41 - 43 - 47 - 53 - 59 - 61 - 67 - 71 - 73 - 79 - 83 - 89 - 97 - "
          ]
        }
      ],
      "source": [
        "# Imprimir los números primos del uno al 100\n",
        "# Número primo es el que solo se puede dividir por el 1 y por si mismo\n",
        "\n",
        "for i in range(2, 100) :\n",
        "  primo = True\n",
        "  for j in range(2, i) :\n",
        "    if i == j :\n",
        "      break\n",
        "    elif i % j == 0 :\n",
        "      primo = False\n",
        "      break\n",
        "    else :\n",
        "      continue\n",
        "\n",
        "  if primo :\n",
        "    print(i, end=' - ')"
      ]
    },
    {
      "cell_type": "markdown",
      "metadata": {
        "id": "TQt7wRrWgONx"
      },
      "source": [
        "# Colecciones\n",
        "\n",
        "# Listas\n",
        "\n",
        "Listado o grupo o cumulo o monton de datos. \n",
        "\n",
        "Las colecciones nos sirven para guardar X cantidad de datos, por ejemplo pasar lista. \n",
        "\n",
        "- **Listas** - Colección de datos ordenada y mutable o modificable. Permite duplicados. Se definen por `[]`\n",
        "\n",
        "- `len()` - Devuelve el número de elementos en la lista, el string, etc\n",
        "\n",
        "## Slicing\n",
        "Partir una lista en pedazos\n",
        "- `:` Los dos puntos se usan para partir la lista como queramos\n",
        "  - `[:N]` Esto nos traeria todos los elementos anteriores al indice que coloquemos después de los dos puntos. No incluye el indice colocado en los parentesis\n",
        "  - `[N:]` Esto nos traería todos los elementos desde el indice que le pongamos hacia adelante.\n"
      ]
    },
    {
      "cell_type": "code",
      "execution_count": null,
      "metadata": {
        "colab": {
          "base_uri": "https://localhost:8080/"
        },
        "id": "hBgQvU_og7IP",
        "outputId": "821902bd-cd41-43db-ace2-8fe521db7389"
      },
      "outputs": [
        {
          "name": "stdout",
          "output_type": "stream",
          "text": [
            "      5 - tipo: <class 'int'>\n",
            "    5.5 - tipo: <class 'float'>\n",
            "cinco   - tipo: <class 'str'>\n",
            " (3+4j) - tipo: <class 'complex'>\n",
            "Tamaño de la lista:  4  elementos\n",
            "[5, 5.5, (3+4j)]\n",
            "[5, 5.5, 'cinco', (3+4j), 5, 5.5, 'cinco', (3+4j)]\n"
          ]
        }
      ],
      "source": [
        "lista = [5, #Entero\n",
        "        5.5, #Flotante\n",
        "        \"cinco\", # String - Cadena de caracteres\n",
        "         3 + 4j, # tipo de datro complejo          \n",
        "         ]\n",
        "\n",
        "\n",
        "for i in lista :\n",
        "  print(f\"{i:7} - tipo: {type(i)}\")\n",
        "\n",
        "print(\"Tamaño de la lista: \", len(lista), \" elementos\")\n",
        "\n",
        "# Crear una lista con los elementos de otra lista mediante su indice\n",
        "\"\"\" # Comentario multilinea\n",
        "\n",
        "La lista tiene cuatro elementos. Los indices son: 0,1,2,3\n",
        "[:2] nos traería los valores de los indices 0 y 1, es decir: 5 y 5.5\n",
        "[3:] nos traería los valores del indice 3, es decir: 3 + 4j\n",
        "\n",
        "\"\"\"\n",
        "lista2 = lista[:2] + lista[3:]\n",
        "print(lista2)\n",
        "\n",
        "print (lista * 2) # Se duplica la lista en si misma"
      ]
    },
    {
      "cell_type": "markdown",
      "metadata": {
        "id": "Dsb7SA7Oa2hp"
      },
      "source": [
        "## Funciones comunes en las listas\n",
        "\n",
        "- `append()` Insertar un valor al final de la lista\n",
        "- `insert()` Inserta un elemento en la posición que le digas. La posición es por indices.\n",
        "- `extend()` Agrega varios valores al final de la lista\n",
        "- `del()` Eliminar uno o varios elementos de la lista por medio de slicing\n",
        "- `remove()` Elimina un valor indicado. Elimina el primer valor que le hayas dado y que encuentre. Este no devuelve nada\n",
        "- `pop()` Extraer un elemento de la lista con el indice que le indiques. Devolver el valor eliminado. Si no le pasas un indice, extrae el último elemento\n",
        "- `clear()` Eliminar todos los elementos de la lista"
      ]
    },
    {
      "cell_type": "code",
      "execution_count": 23,
      "metadata": {
        "colab": {
          "base_uri": "https://localhost:8080/"
        },
        "id": "9lcT0QtJbIuH",
        "outputId": "64197b9a-5370-49cd-a136-948bdd44c341"
      },
      "outputs": [
        {
          "name": "stdout",
          "output_type": "stream",
          "text": [
            "Lista original:  [3, 5, 6, 8, 9, 7, 10, 4, 4, 5, 1, 2] \n",
            "\n",
            "\n",
            "Con el append: [3, 5, 6, 8, 9, 7, 10, 4, 4, 5, 1, 2, 0]\n",
            "Con el insert: [3, 5, 6, 100, 8, 9, 7, 10, 4, 4, 5, 1, 2, 0]\n",
            "Con el extend: [3, 5, 6, 100, 8, 9, 7, 10, 4, 4, 5, 1, 2, 0, -1, -2, -3]\n",
            "Después del del: [3, 5, 6, 100, 8, 9, 7, 10, 4, 4, 5, 1]\n",
            "None\n",
            "Después del remove(): [3, 6, 8, 9, 7, 10, 4, 5, 1]\n",
            "8\n",
            "1\n",
            "Después del pop(): [3, 6, 9, 7, 10, 4, 5]\n",
            "Después del clear(): []\n"
          ]
        }
      ],
      "source": [
        "# Definimos una función\n",
        "milista = [3, 5, 6, 8, 9, 7, 10, 4, 4, 5, 1, 2]\n",
        "\n",
        "print(\"Lista original: \", milista, \"\\n\\n\")\n",
        "\n",
        "milista.append(0)\n",
        "print(\"Con el append:\", milista)\n",
        "\n",
        "milista.insert(3, 100)\n",
        "print(\"Con el insert:\", milista)\n",
        "\n",
        "milista.extend(range(-1, -4, -1))\n",
        "print(\"Con el extend:\", milista)\n",
        "\n",
        "del milista[12:]\n",
        "print(\"Después del del:\", milista)\n",
        "\n",
        "milista.remove(5)\n",
        "milista.remove(4)\n",
        "print(milista.remove(100))\n",
        "print(\"Después del remove():\", milista)\n",
        "\n",
        "print(milista.pop(2))\n",
        "print(milista.pop())\n",
        "print(\"Después del pop():\", milista)\n",
        "\n",
        "milista.clear()\n",
        "print(\"Después del clear():\", milista)"
      ]
    },
    {
      "cell_type": "markdown",
      "metadata": {
        "id": "UrxmFoDCgWL8"
      },
      "source": [
        "- `len()` Obtiene el número de elementos dentro del objeto. Por ejemplo, el número de elementos de una lista.\n",
        "- `count()` Cuenta cuantas veces aparece un elemento en la lista\n",
        "- `index()` Devuelve el indice del valor que le des. Pudes asignarle un rango de valores\n",
        "- `reverse()` Revierte la lista\n",
        "- `sort()` Ordena la lista. Automáticamente por orden número u orden alfabetico"
      ]
    },
    {
      "cell_type": "code",
      "execution_count": 43,
      "metadata": {
        "colab": {
          "base_uri": "https://localhost:8080/"
        },
        "id": "-zr2aoV2f59A",
        "outputId": "e6e5d745-1aff-4df1-8a75-2818f263f74d"
      },
      "outputs": [
        {
          "name": "stdout",
          "output_type": "stream",
          "text": [
            "['a', 'E', 'I', 'O', 'u', 'E', 'a', 'I', 'e'] 9\n",
            "3\n",
            "4\n",
            "['e', 'I', 'a', 'E', 'u', 'O', 'I', 'E', 'a']\n",
            "['E', 'E', 'I', 'I', 'O', 'a', 'a', 'e', 'u']\n"
          ]
        }
      ],
      "source": [
        "vocales = ['a', 'e', 'i', 'o', 'u', 'E', 'a', 'I', 'e']\n",
        "\n",
        "#Slicing\n",
        "vocales[1:4] = ['E', 'I', 'O']\n",
        "\n",
        "print(vocales, len(vocales))\n",
        "\n",
        "vocales.count('E')\n",
        "\n",
        "print(vocales.index('O'))\n",
        "print(vocales.index('u', 2)) # Desde el indice 4 va a buscar el primer valor que le indices. En este caso, la primera U\n",
        "\n",
        "vocales.reverse()\n",
        "print(vocales)\n",
        "\n",
        "\n",
        "vocales.sort()\n",
        "print(vocales)"
      ]
    },
    {
      "cell_type": "markdown",
      "metadata": {
        "id": "NNBUU8bmjTUM"
      },
      "source": [
        "## Manejo de memoria en listas\n",
        "\n",
        "- `id()` Identificador de memoria del objeto. Es decir, donde se encuentra en nuestro almacenamiento o disco.\n",
        "\n",
        "Al nosotros asignar una lista o variable a otra, esta se asigna con el mismo identificador de memoria, es decir, la segunda variable apunta a la primera.\n",
        "\n",
        "- `copy()` Crear un nuevo objeto a partir del que estás copiando"
      ]
    },
    {
      "cell_type": "code",
      "execution_count": 56,
      "metadata": {
        "colab": {
          "base_uri": "https://localhost:8080/"
        },
        "id": "jVf_lg0ajat_",
        "outputId": "1fe1778a-9a8f-48ca-b6ec-3e780abbfac1"
      },
      "outputs": [
        {
          "name": "stdout",
          "output_type": "stream",
          "text": [
            "['a', 'e', 'i', 'o', 'u'] ['a', 'e', 'i', 'o', 'u']\n",
            "140502273887680 140502273887680\n",
            "True\n",
            "['a', 'e', 'i', 'o']\n",
            "['a', 'e', 'i', 'o'] ['a', 'e', 'i', 'o']\n",
            "140502273887680 140502274598864\n",
            "False\n",
            "['a', 'e', 'i', 'o']\n",
            "140502818012208 140502818012208\n",
            "140502818012208 140502818012208\n"
          ]
        }
      ],
      "source": [
        "vocales1 = ['a', 'e', 'i', 'o', 'u']\n",
        "vocales2 = vocales1\n",
        "# Aquí vocales2 en realidad no tiene sus propios datos, usa los de vocales1 porque solo apunta allá\n",
        "\n",
        "print(vocales1, vocales2)\n",
        "print(id(vocales1), id(vocales2))\n",
        "print(id(vocales1) == id(vocales2)) #Si son los mismos, me da True\n",
        "\n",
        "vocales1.pop()\n",
        "print(vocales2)\n",
        "\n",
        "vocales3 = vocales1.copy()\n",
        "\n",
        "print(vocales1, vocales3)\n",
        "print(id(vocales1), id(vocales3))\n",
        "print(id(vocales1) == id(vocales3))\n",
        "\n",
        "vocales1.pop()\n",
        "print(vocales3)\n",
        "\n",
        "print(id(vocales1[2]), id(vocales2[2]))\n",
        "print(id(vocales1[2]), id(vocales3[2]))"
      ]
    },
    {
      "cell_type": "markdown",
      "metadata": {
        "id": "t5XLj97Rg6Qa"
      },
      "source": [
        "# Tuplas\n",
        "\n",
        "Similares a la lista. Permiten duplicas, es una lista ordenada y no se puiede modificar o es inmutable.\n",
        "\n",
        "La tupla se define con `()` parentesis\n",
        "\n",
        "Una tupla solo tiene las funciones `count()` e `index()`\n",
        "\n",
        "- `list()` Genera una lista con lo que le pongas dentro\n",
        "- `tuple()` Genera una tupla a partir de una lista\n"
      ]
    },
    {
      "cell_type": "code",
      "execution_count": 72,
      "metadata": {
        "colab": {
          "base_uri": "https://localhost:8080/"
        },
        "id": "PbRbU8YMmspD",
        "outputId": "9f55aeed-dfdc-406d-ed2f-46197ceafdb0"
      },
      "outputs": [
        {
          "name": "stdout",
          "output_type": "stream",
          "text": [
            "i\n",
            "('a', 'e', 'i', 'o', 'u', 'a', 'e', 'i', 'o', 'u')\n",
            "3\n",
            "['A', 'e', 'i', 'o', 'u', 'a', 'e', 'i', 'o', 'u']\n",
            "('A', 'e', 'i', 'o', 'u', 'a', 'e', 'i', 'o', 'u')\n"
          ]
        }
      ],
      "source": [
        "# Definimos la tupla\n",
        "vocales = ('a', 'e', 'i', 'o', 'u')\n",
        "print(vocales[2])\n",
        "\n",
        "# Duplicamos la tupla\n",
        "vocales = vocales * 2\n",
        "print(vocales)\n",
        "\n",
        "# Obtenemos el indice de la tupla\n",
        "print(vocales.index('o'))\n",
        "\n",
        "# vocales[0] = 'A' # Las tuplas no se pueden modificar, esta linea genera un error.\n",
        "\n",
        "# Convertimos en lista a la tupla para que podamos modificarla\n",
        "lista_vocales = list(vocales)\n",
        "lista_vocales[0] = 'A'\n",
        "print(lista_vocales)\n",
        "\n",
        "vocales_tupla2_la_venganza_el_regreso_remasterizada = tuple(lista_vocales) \n",
        "\n",
        "print(vocales_tupla2_la_venganza_el_regreso_remasterizada)"
      ]
    },
    {
      "cell_type": "markdown",
      "metadata": {
        "id": "OP5WAe3RmUI8"
      },
      "source": [
        "# Conjuntos\n",
        "\n",
        "Son una colección que NO tienen orden. TAMPOCO tienen indices. NO aceptan duplicados.\n",
        "\n",
        "Los conjuntos se declaran con la llaves `{}`\n",
        "\n",
        "Este es DEMASIADO util para eliminar duplicados\n",
        "\n",
        "Los conjuntos soportan operaciones matemáticas de conjuntos\n",
        "- Unión\n",
        "- Intersección\n",
        "- Diferencia\n",
        "- Diferencia simétrica\n",
        "\n",
        "\n",
        "- `set()` Transformar una lista a un conjunto"
      ]
    },
    {
      "cell_type": "code",
      "execution_count": 81,
      "metadata": {
        "colab": {
          "base_uri": "https://localhost:8080/"
        },
        "id": "Zme65v05ppxP",
        "outputId": "24bb4e48-f0e5-43aa-c431-f693e614d585"
      },
      "outputs": [
        {
          "name": "stdout",
          "output_type": "stream",
          "text": [
            "{'manzana', 'naranja', 'pera', 'platano'}\n",
            "True\n",
            "False\n",
            "['a', 'e', 'i', 'o', 'u', 'a', 'i', 'i', 'u']\n",
            "['u', 'i', 'e', 'o', 'a']\n",
            "['a', 'e', 'i', 'o', 'u']\n"
          ]
        }
      ],
      "source": [
        "canasta = {'manzana', 'naranja', 'manzana', 'pera', 'naranja', 'platano'}\n",
        "print(canasta)\n",
        "\n",
        "print('manzana' in canasta)\n",
        "print('melón' in canasta)\n",
        "\n",
        "# Quitar duplicados de una lista\n",
        "vocales = ['a', 'e', 'i', 'o', 'u', 'a', 'i', 'i', 'u']\n",
        "\n",
        "print(vocales)\n",
        "vocales = list(set(vocales))\n",
        "\n",
        "vocales.sort()\n",
        "print(vocales)"
      ]
    },
    {
      "cell_type": "markdown",
      "metadata": {
        "id": "D4Ca3vI9wLg4"
      },
      "source": [
        "- `issubset()` No dice si un conjunto es un subconjunto de otro más grande"
      ]
    },
    {
      "cell_type": "code",
      "execution_count": 88,
      "metadata": {
        "colab": {
          "base_uri": "https://localhost:8080/"
        },
        "id": "2PXPiMlzv27D",
        "outputId": "174a8f4b-25d7-47ae-e770-a900046c9844"
      },
      "outputs": [
        {
          "name": "stdout",
          "output_type": "stream",
          "text": [
            "True\n",
            "{'e', 'o', 'i'}\n",
            "{'u', 'i', 'I', 'E', 'e', 'o', 'O', 'a'}\n",
            "{'u', 'a'}\n",
            "{'E', 'i', 'e', 'o', 'O', 'I'}\n"
          ]
        }
      ],
      "source": [
        "vocales1 = {'a', 'e', 'i', 'o', 'u', 'a'}\n",
        "vocales2 = {'e', 'i', 'o'}\n",
        "\n",
        "print(vocales2.issubset(vocales1)) # Nos da True porque vocales2 es igual a una parte de vocales1\n",
        "\n",
        "vocales1 = {'a', 'e', 'i', 'o', 'u'}\n",
        "vocales2 = {'a', 'E', 'I', 'O', 'u'}\n",
        "\n",
        "# OPERACIONES CON CONJUNTOS\n",
        "\n",
        "print(vocales1 - vocales2) # Resta o diferencia de conjuntos - restar lños elementos de un conjunto a los de otro\n",
        "\n",
        "print(vocales1 | vocales2) # Unión de conjuntos - unir los elementos de los dos conuntos en uno solo\n",
        "# Quita los repetidos y solo pone todos los valores diferentes\n",
        "# Esto me genera un solo conjunto\n",
        "\n",
        "print(vocales1 & vocales2) # Intersección de conjuntos - Indica que elementos son compartidos por ambos conjuntos\n",
        "\n",
        "print(vocales1 ^ vocales2) # Solo me da los que son elementos únicos. Todos los diferentes"
      ]
    },
    {
      "cell_type": "markdown",
      "metadata": {
        "id": "_LokbubIpF6A"
      },
      "source": [
        "# Diccionarios "
      ]
    },
    {
      "cell_type": "markdown",
      "metadata": {},
      "source": [
        "_________________________\n",
        "\n",
        "# Ejercicio 2 pa la casa\n",
        "\n",
        "- Crea un programa que en una lista capture el nombre y dos calificaciones de hasta cinco alumnos con un ciclo que termine cuando se cumpla cierta condición, por ejemplo, ingresar un nombre vacio\n",
        "- Al finalizar el ciclo, este debe mostrar en pantalla una lista de los nombres de los alumnos con su incial en mayuscula, y sus calificaciones\n",
        "\n",
        "**Si lo terminas todo te regalo un Papure**\n",
        "\n",
        "![Papure](http://pa1.narvii.com/6926/cdfab26bac2fdc0261691d0d41597af36b7cb07dr1-320-226_00.gif)\n"
      ]
    }
  ],
  "metadata": {
    "colab": {
      "collapsed_sections": [],
      "provenance": []
    },
    "kernelspec": {
      "display_name": "Python 3.9.13 64-bit (microsoft store)",
      "language": "python",
      "name": "python3"
    },
    "language_info": {
      "name": "python",
      "version": "3.9.13"
    },
    "vscode": {
      "interpreter": {
        "hash": "ad04bde5a006cd9fe7ffb2b264c21a002ab7f2dd458abe38b17455a9dd2d2b49"
      }
    }
  },
  "nbformat": 4,
  "nbformat_minor": 0
}
