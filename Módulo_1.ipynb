{
  "cells": [
    {
      "cell_type": "markdown",
      "metadata": {
        "id": "cEPbkHmfMrZG"
      },
      "source": [
        "# Python\n",
        "\n",
        "Consula la clase en: https://www.twitch.tv/brujeriatech\n",
        "\n",
        "A esto le das formato con Markdown\n",
        "\n",
        "- Multiplataforma\n",
        "- Multiparadigma\n",
        "- Interpretado\n",
        "\n",
        "Paradigma: Forma de programar\n",
        "- Programación funcional\n",
        "- Programación estructurada\n",
        "- Programación orientada a eventos\n",
        "- Programación orientada a objetos\n",
        "\n",
        "Compilador\n",
        "Interprete\n",
        "\n",
        "Lenguaje máquina\n"
      ]
    },
    {
      "cell_type": "code",
      "execution_count": null,
      "metadata": {
        "colab": {
          "base_uri": "https://localhost:8080/"
        },
        "id": "4qa6c5-fcOJb",
        "outputId": "e9e90408-1a78-4fb2-cf16-428a988ba696"
      },
      "outputs": [
        {
          "name": "stdout",
          "output_type": "stream",
          "text": [
            "Esto no es brujería, es tecnología\n"
          ]
        }
      ],
      "source": [
        "# El primer programa\n",
        "# HOLA MUNDO\n",
        "\n",
        "print(\"Esto no es brujería, es tecnología\")"
      ]
    },
    {
      "cell_type": "markdown",
      "metadata": {
        "id": "KNJ6OQEOcjpH"
      },
      "source": [
        "# Ejercicio 1 - Suma de dos números\n",
        "\n",
        "1.   Elemento de la lista\n",
        "2.   Elemento de la lista\n",
        "\n"
      ]
    },
    {
      "cell_type": "code",
      "execution_count": 1,
      "metadata": {
        "colab": {
          "base_uri": "https://localhost:8080/"
        },
        "id": "GfSFd2nFJD9K",
        "outputId": "5a96ad72-07ea-4ffb-82d3-c74059a780c7"
      },
      "outputs": [
        {
          "name": "stdout",
          "output_type": "stream",
          "text": [
            "-- Suma de dos enteros --\n",
            "Introduce dos números enteros y después los sumaré y te mostraré el resultado\n",
            "Introduce el primer número entero: 5\n",
            "Introduce el segundo número entero: 5\n",
            "El resultado es: 10\n",
            "El resultado es: 10\n",
            "El resultado es: 10\n",
            "El resultado es: 10\n"
          ]
        }
      ],
      "source": [
        "print(\"-- Suma de dos enteros --\")\n",
        "print('''Introduce dos números enteros y después los sumaré y \\\n",
        "te mostraré el resultado''')\n",
        "\n",
        "primer_numero = input('Introduce el primer número entero: ')\n",
        "\n",
        "if primer_numero.isnumeric() :\n",
        "  try:\n",
        "    primer_numero = int(primer_numero)\n",
        "  except ValueError:\n",
        "    print(\"Debes introducir un número entero\")\n",
        "    exit()\n",
        "\n",
        "else :\n",
        "  print(\"Debes introducir un número entero\")\n",
        "  # Aquí te regresaría al incio del programa\n",
        "  exit()\n",
        "\n",
        "segundo_numero = input('Introduce el segundo número entero: ')\n",
        "\n",
        "if segundo_numero.isnumeric() :\n",
        "  try:\n",
        "    segundo_numero = int(segundo_numero)\n",
        "  except ValueError:\n",
        "    print(\"Debes introducir un número entero\")\n",
        "    exit()\n",
        "\n",
        "else :\n",
        "  print(\"Debes introducir un número entero\")\n",
        "  # Aquí te regresaría al incio del programa\n",
        "  exit()\n",
        "\n",
        "suma = primer_numero + segundo_numero\n",
        "\n",
        "print('El resultado es: ' + str(suma))\n",
        "print('El resultado es:', suma)\n",
        "print(f'El resultado es: {suma}')\n",
        "print(\"El resultado es: %d\" % suma)"
      ]
    },
    {
      "cell_type": "markdown",
      "metadata": {
        "id": "dc0pNX_ggnOv"
      },
      "source": [
        "# Tipos de datos"
      ]
    },
    {
      "cell_type": "code",
      "execution_count": 7,
      "metadata": {
        "colab": {
          "base_uri": "https://localhost:8080/"
        },
        "id": "CN26cKY8gpYZ",
        "outputId": "446c4b94-7f7f-48fc-a0f9-7a02fee5ecb9"
      },
      "outputs": [
        {
          "name": "stdout",
          "output_type": "stream",
          "text": [
            "<class 'int'>\n",
            "<class 'str'> <class 'float'> <class 'float'> <class 'bool'>\n"
          ]
        }
      ],
      "source": [
        "\"\"\"\n",
        "COMENTARIO \n",
        "MULTILINEA\n",
        "\n",
        "DOCSTRINGS - Documentación - ¿Qué hace el programa?\n",
        "\n",
        "\"\"\"\n",
        "\n",
        "nombre = \"Brujo\" # String - Cadena de caracteres\n",
        "edad = 26 # int - Número entero sin punto decimal\n",
        "pi = 3.1416 # float - Número flotante, es decir, con punto decimal\n",
        "vivo = True # Bool - Solo puede ser True o False (1 o 0, verdadero y falso, si o no, encendido y apagado)\n",
        "\n",
        "# Casteo - Casting\n",
        "print(type(edad))\n",
        "edad = float(edad)\n",
        "print(type(nombre), type(edad), type(pi), type(vivo))"
      ]
    },
    {
      "cell_type": "markdown",
      "metadata": {
        "id": "c8FSGHFDi2D3"
      },
      "source": [
        "# Operadores básicos\n",
        "\n",
        "- Operadores aritmeticos: \n",
        "  - `+` Suma\n",
        "  - `-` Resta\n",
        "  - `*` Multiplicación o producto\n",
        "  - `/` División\n",
        "  - `%` Modulo - Sacar el residuo o sobra de una visión\n",
        "  - `**` Potencia - Eleva a la X al número\n",
        "  - `//` Realiza una división con resultado en entero"
      ]
    },
    {
      "cell_type": "code",
      "execution_count": 19,
      "metadata": {
        "colab": {
          "base_uri": "https://localhost:8080/"
        },
        "id": "8z1jizdYj1lx",
        "outputId": "4806d2fe-4155-4836-fcb6-155b6330ea00"
      },
      "outputs": [
        {
          "name": "stdout",
          "output_type": "stream",
          "text": [
            "Suma: 11\n",
            "Resta: 5\n",
            "Multiplicación: 24\n",
            "División 2.6666666666666665\n",
            "Módulo: 2\n",
            "Potencia: 729\n",
            "División entera: 2\n",
            "Raiz cuadrada con operador de potencia 2.8284271247461903\n"
          ]
        }
      ],
      "source": [
        "print(\"Suma:\", 8 + 3)\n",
        "\n",
        "print(\"Resta:\", 8 - 3)\n",
        "\n",
        "print(\"Multiplicación:\", 8 * 3)\n",
        "\n",
        "print(\"División\", 8 / 3)\n",
        "\n",
        "print('Módulo:', 8 % 3)\n",
        "\n",
        "print('Potencia:', 9 ** 3)\n",
        "\n",
        "print('División entera:', 8 // 3)\n",
        "\n",
        "print('Raiz cuadrada con operador de potencia', 8 ** 0.5)"
      ]
    },
    {
      "cell_type": "markdown",
      "metadata": {
        "id": "ngSbob9plqSg"
      },
      "source": [
        "- Operadores de comparación o relacionales\n",
        "  - `>` True si la izquierda es mayor que la derecha - Mayor que\n",
        "  - `<` True si la derecha es mayor que la izquierda - Menor que\n",
        "  - `==` True si ambos valores son iguales - Igual que\n",
        "  - `>=` True si la izquierda es mayor o igual a la derecha - Mayor o igual que\n",
        "  - `<= ` True si la derecha es mayor o igual a la izquierda - Menor o igual que\n",
        "  - `!=` Devuelve true si ambos NO son iguales - Distinto\n",
        "\n",
        "- Operador de asinación\n",
        "  - `=` Asigna el valor de la derecha a la variable de la izquierda"
      ]
    },
    {
      "cell_type": "code",
      "execution_count": 74,
      "metadata": {
        "colab": {
          "base_uri": "https://localhost:8080/"
        },
        "id": "iGxqKk_Im9Ic",
        "outputId": "36292c8e-c192-4784-ebff-48073dbc532a"
      },
      "outputs": [
        {
          "name": "stdout",
          "output_type": "stream",
          "text": [
            "Mayor que -  False\n",
            "-> Mayor que -  False\n",
            "Menor que -  True\n",
            "Igual que -  False\n",
            "Igual que -  False\n",
            "Mayor o igual que -  False\n",
            "Menor o igual que -  True\n",
            "Distinto -  True\n",
            "Distinto -  False\n"
          ]
        }
      ],
      "source": [
        "a = 5\n",
        "b = 10\n",
        "\n",
        "print('Mayor que - ', a > b)\n",
        "\n",
        "print('-> Mayor que - ', 'a' > 'b')\n",
        "\n",
        "\n",
        "print('Menor que - ', a < b)\n",
        "\n",
        "print('Igual que - ', a == b)\n",
        "print('Igual que - ', 'a' == 'A')\n",
        "\n",
        "print('Mayor o igual que - ', a >= b)\n",
        "print('Menor o igual que - ', a <= b)\n",
        "\n",
        "print('Distinto - ', a != b)\n",
        "\n",
        "print('Distinto - ', a != b)\n"
      ]
    },
    {
      "cell_type": "markdown",
      "metadata": {
        "id": "DIunxF9GmHUs"
      },
      "source": [
        "# Ejercicio pa la casa\n",
        "\n",
        "Vas a pedirle al usuario que introduzca su nombre y su fecha de nacimiento. Haz lo siguiente:\n",
        "\n",
        "1. Validar que el nombre sea String\n",
        "2. Validar que los números de la fecha de nacimiento sean enteros\n",
        "4. Calcular la edad de la persona\n",
        "5. Vas a validar que la persona sea mayor de edad, y que tenga una edad realista\n",
        "6. Vas a multiplicar por dos la edad de la persona, el resultado lo vas a elevar a la tercera potencia y después le restarás 100\n",
        "7. Imprime todos los resultados\n",
        "\n",
        "**Si lo terminas todo te regalo un UwU**\n",
        "\n",
        "![UwU](https://tierragamer.com/wp-content/uploads/2021/09/Que-Significa-UwU.jpg)"
      ]
    }
  ],
  "metadata": {
    "colab": {
      "collapsed_sections": [],
      "provenance": []
    },
    "kernelspec": {
      "display_name": "Python 3",
      "name": "python3"
    },
    "language_info": {
      "name": "python"
    }
  },
  "nbformat": 4,
  "nbformat_minor": 0
}
