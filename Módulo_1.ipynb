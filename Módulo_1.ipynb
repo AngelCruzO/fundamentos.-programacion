{
  "cells": [
    {
      "cell_type": "markdown",
      "metadata": {
        "id": "cEPbkHmfMrZG"
      },
      "source": [
        "# Python\n",
        "\n",
        "Consula la clase en: https://www.twitch.tv/brujeriatech\n",
        "\n",
        "A esto le das formato con Markdown\n",
        "\n",
        "- Multiplataforma\n",
        "- Multiparadigma\n",
        "- Interpretado\n",
        "\n",
        "Paradigma: Forma de programar\n",
        "- Programación funcional\n",
        "- Programación estructurada\n",
        "- Programación orientada a eventos\n",
        "- Programación orientada a objetos\n",
        "\n",
        "Compilador\n",
        "Interprete\n",
        "\n",
        "Lenguaje máquina\n"
      ]
    },
    {
      "cell_type": "code",
      "execution_count": null,
      "metadata": {
        "colab": {
          "base_uri": "https://localhost:8080/"
        },
        "id": "4qa6c5-fcOJb",
        "outputId": "e9e90408-1a78-4fb2-cf16-428a988ba696"
      },
      "outputs": [
        {
          "name": "stdout",
          "output_type": "stream",
          "text": [
            "Esto no es brujería, es tecnología\n"
          ]
        }
      ],
      "source": [
        "# El primer programa\n",
        "# HOLA MUNDO\n",
        "\n",
        "print(\"Esto no es brujería, es tecnología\")"
      ]
    },
    {
      "cell_type": "markdown",
      "metadata": {
        "id": "KNJ6OQEOcjpH"
      },
      "source": [
        "# Ejercicio 1 - Suma de dos números\n",
        "\n",
        "1.   Elemento de la lista\n",
        "2.   Elemento de la lista\n",
        "\n"
      ]
    },
    {
      "cell_type": "code",
      "execution_count": null,
      "metadata": {
        "colab": {
          "base_uri": "https://localhost:8080/"
        },
        "id": "GfSFd2nFJD9K",
        "outputId": "5a96ad72-07ea-4ffb-82d3-c74059a780c7"
      },
      "outputs": [
        {
          "name": "stdout",
          "output_type": "stream",
          "text": [
            "-- Suma de dos enteros --\n",
            "Introduce dos números enteros y después los sumaré y te mostraré el resultado\n",
            "Introduce el primer número entero: 5\n",
            "Introduce el segundo número entero: 5\n",
            "El resultado es: 10\n",
            "El resultado es: 10\n",
            "El resultado es: 10\n",
            "El resultado es: 10\n"
          ]
        }
      ],
      "source": [
        "print(\"-- Suma de dos enteros --\")\n",
        "print('''Introduce dos números enteros y después los sumaré y \\\n",
        "te mostraré el resultado''')\n",
        "\n",
        "primer_numero = input('Introduce el primer número entero: ')\n",
        "\n",
        "if primer_numero.isnumeric() :\n",
        "  try:\n",
        "    primer_numero = int(primer_numero)\n",
        "  except ValueError:\n",
        "    print(\"Debes introducir un número entero\")\n",
        "    exit()\n",
        "\n",
        "else :\n",
        "  print(\"Debes introducir un número entero\")\n",
        "  # Aquí te regresaría al incio del programa\n",
        "  exit()\n",
        "\n",
        "segundo_numero = input('Introduce el segundo número entero: ')\n",
        "\n",
        "if segundo_numero.isnumeric() :\n",
        "  try:\n",
        "    segundo_numero = int(segundo_numero)\n",
        "  except ValueError:\n",
        "    print(\"Debes introducir un número entero\")\n",
        "    exit()\n",
        "\n",
        "else :\n",
        "  print(\"Debes introducir un número entero\")\n",
        "  # Aquí te regresaría al incio del programa\n",
        "  exit()\n",
        "\n",
        "suma = primer_numero + segundo_numero\n",
        "\n",
        "print('El resultado es: ' + str(suma))\n",
        "print('El resultado es:', suma)\n",
        "print(f'El resultado es: {suma}')\n",
        "print(\"El resultado es: %d\" % suma)"
      ]
    },
    {
      "cell_type": "markdown",
      "metadata": {
        "id": "dc0pNX_ggnOv"
      },
      "source": [
        "# Tipos de datos"
      ]
    },
    {
      "cell_type": "code",
      "execution_count": null,
      "metadata": {
        "colab": {
          "base_uri": "https://localhost:8080/"
        },
        "id": "CN26cKY8gpYZ",
        "outputId": "446c4b94-7f7f-48fc-a0f9-7a02fee5ecb9"
      },
      "outputs": [
        {
          "name": "stdout",
          "output_type": "stream",
          "text": [
            "<class 'int'>\n",
            "<class 'str'> <class 'float'> <class 'float'> <class 'bool'>\n"
          ]
        }
      ],
      "source": [
        "\"\"\"\n",
        "COMENTARIO \n",
        "MULTILINEA\n",
        "\n",
        "DOCSTRINGS - Documentación - ¿Qué hace el programa?\n",
        "\n",
        "\"\"\"\n",
        "\n",
        "nombre = \"Brujo\" # String - Cadena de caracteres\n",
        "edad = 26 # int - Número entero sin punto decimal\n",
        "pi = 3.1416 # float - Número flotante, es decir, con punto decimal\n",
        "vivo = True # Bool - Solo puede ser True o False (1 o 0, verdadero y falso, si o no, encendido y apagado)\n",
        "\n",
        "# Casteo - Casting\n",
        "print(type(edad))\n",
        "edad = float(edad)\n",
        "print(type(nombre), type(edad), type(pi), type(vivo))"
      ]
    },
    {
      "cell_type": "markdown",
      "metadata": {
        "id": "c8FSGHFDi2D3"
      },
      "source": [
        "# Operadores básicos\n",
        "\n",
        "- Operadores aritmeticos: \n",
        "  - `+` Suma\n",
        "  - `-` Resta\n",
        "  - `*` Multiplicación o producto\n",
        "  - `/` División\n",
        "  - `%` Modulo - Sacar el residuo o sobra de una visión\n",
        "  - `**` Potencia - Eleva a la X al número\n",
        "  - `//` Realiza una división con resultado en entero"
      ]
    },
    {
      "cell_type": "code",
      "execution_count": null,
      "metadata": {
        "colab": {
          "base_uri": "https://localhost:8080/"
        },
        "id": "8z1jizdYj1lx",
        "outputId": "4806d2fe-4155-4836-fcb6-155b6330ea00"
      },
      "outputs": [
        {
          "name": "stdout",
          "output_type": "stream",
          "text": [
            "Suma: 11\n",
            "Resta: 5\n",
            "Multiplicación: 24\n",
            "División 2.6666666666666665\n",
            "Módulo: 2\n",
            "Potencia: 729\n",
            "División entera: 2\n",
            "Raiz cuadrada con operador de potencia 2.8284271247461903\n"
          ]
        }
      ],
      "source": [
        "print(\"Suma:\", 8 + 3)\n",
        "\n",
        "print(\"Resta:\", 8 - 3)\n",
        "\n",
        "print(\"Multiplicación:\", 8 * 3)\n",
        "\n",
        "print(\"División\", 8 / 3)\n",
        "\n",
        "print('Módulo:', 8 % 3)\n",
        "\n",
        "print('Potencia:', 9 ** 3)\n",
        "\n",
        "print('División entera:', 8 // 3)\n",
        "\n",
        "print('Raiz cuadrada con operador de potencia', 8 ** 0.5)"
      ]
    },
    {
      "cell_type": "markdown",
      "metadata": {
        "id": "ngSbob9plqSg"
      },
      "source": [
        "- Operadores de comparación o relacionales\n",
        "  - `>` True si la izquierda es mayor que la derecha - Mayor que\n",
        "  - `<` True si la derecha es mayor que la izquierda - Menor que\n",
        "  - `==` True si ambos valores son iguales - Igual que\n",
        "  - `>=` True si la izquierda es mayor o igual a la derecha - Mayor o igual que\n",
        "  - `<= ` True si la derecha es mayor o igual a la izquierda - Menor o igual que\n",
        "  - `!=` Devuelve true si ambos NO son iguales - Distinto\n",
        "\n",
        "- Operador de asinación\n",
        "  - `=` Asigna el valor de la derecha a la variable de la izquierda"
      ]
    },
    {
      "cell_type": "code",
      "execution_count": null,
      "metadata": {
        "colab": {
          "base_uri": "https://localhost:8080/"
        },
        "id": "iGxqKk_Im9Ic",
        "outputId": "36292c8e-c192-4784-ebff-48073dbc532a"
      },
      "outputs": [
        {
          "name": "stdout",
          "output_type": "stream",
          "text": [
            "Mayor que -  False\n",
            "-> Mayor que -  False\n",
            "Menor que -  True\n",
            "Igual que -  False\n",
            "Igual que -  False\n",
            "Mayor o igual que -  False\n",
            "Menor o igual que -  True\n",
            "Distinto -  True\n",
            "Distinto -  False\n"
          ]
        }
      ],
      "source": [
        "a = 5\n",
        "b = 10\n",
        "\n",
        "print('Mayor que - ', a > b)\n",
        "\n",
        "print('-> Mayor que - ', 'a' > 'b')\n",
        "\n",
        "\n",
        "print('Menor que - ', a < b)\n",
        "\n",
        "print('Igual que - ', a == b)\n",
        "print('Igual que - ', 'a' == 'A')\n",
        "\n",
        "print('Mayor o igual que - ', a >= b)\n",
        "print('Menor o igual que - ', a <= b)\n",
        "\n",
        "print('Distinto - ', a != b)\n",
        "\n",
        "print('Distinto - ', a != b)\n"
      ]
    },
    {
      "cell_type": "markdown",
      "metadata": {
        "id": "vt8EuVC2zLUw"
      },
      "source": [
        "# Operadores Bit a Bit\n",
        "\n",
        "Realizan operaciones en los operandos bit a bit\n",
        "\n",
        "\n",
        "a = 2 - en binario = 10\n",
        "\n",
        "\n",
        "b = 3 - en binario = 11\n",
        "\n",
        "- `&` Realiza bit a bit la operación AND en los operandos\n",
        "- `|` Operación bit a bit la operación OR\n",
        "- `^` Operación XOR \n",
        "- `~` Operador NOT - Pasa a negativo los valores\n",
        "- `>>` Desplazamiento a la derecha\n",
        "- `<<` Desplazamiento a la izquierda"
      ]
    },
    {
      "cell_type": "code",
      "execution_count": null,
      "metadata": {
        "colab": {
          "base_uri": "https://localhost:8080/"
        },
        "id": "xgiGWhPv4E-m",
        "outputId": "3d1d59b7-e080-48c6-e465-a0f19ac364a3"
      },
      "outputs": [
        {
          "name": "stdout",
          "output_type": "stream",
          "text": [
            "El número representado en bits; 0b11\n",
            "El número representado en bits; 0b10\n",
            "2\n",
            "3\n",
            "1\n",
            "-4\n",
            "0\n",
            "12\n"
          ]
        }
      ],
      "source": [
        "a = 3\n",
        "b = 2\n",
        "\n",
        "print(\"El número representado en bits;\", bin(a))\n",
        "print(\"El número representado en bits;\", bin(b))\n",
        "\n",
        "print(a & b) # AND\n",
        "print(a | b) # OR\n",
        "print(a ^ b) # XOR\n",
        "print(~ a) # NOT\n",
        "print(a >> b)\n",
        "print(a << b)"
      ]
    },
    {
      "cell_type": "markdown",
      "metadata": {
        "id": "YsOUED3lDhiH"
      },
      "source": [
        "# Operadores de asignación\n",
        "\n",
        "Asignan un valor a una varible\n",
        "\n",
        "Si primero esta el igual, primero se asigna el valor a la variable y luego se hace la operación. Si el igual esta después, primero se hace la operación y luego se asigna el valor\n",
        "\n",
        "- `=` Asignar un valor\n",
        "- `+=` Suma el valor actual con el que le pongas y lo asigna - Primero se suma y luego se guarda/usa el valor\n",
        "- `-=` Resta el valor actual con el que le pongas y lo asigna\n",
        "- `=+` Primero asigna el valor y luego suma\n",
        "\n",
        "- `*=` Multiplica y asigna\n",
        "- `/=` Divide y asigna\n",
        "\n",
        "- `%=` Ejecuta un modulo y asigna\n",
        "- `**=` Hace potencia del número y lo asigna\n",
        "\n",
        "- `&=` Primero hace el AND binario y luego lo asigna\n",
        "\n",
        "- `|=` Primero hace el OR binario y luego lo asigna"
      ]
    },
    {
      "cell_type": "code",
      "execution_count": null,
      "metadata": {
        "colab": {
          "base_uri": "https://localhost:8080/"
        },
        "id": "zARZNLeDDst2",
        "outputId": "b704f738-b068-43ce-88d5-168735fef85a"
      },
      "outputs": [
        {
          "name": "stdout",
          "output_type": "stream",
          "text": [
            "3\n"
          ]
        }
      ],
      "source": [
        "a = 5\n",
        "\n",
        "a += 5 # Lo mismo que ->  a = a + 5 -> 10\n",
        "a -= 5 # Lo mismo que ->  a = a - 5 -> 5\n",
        "\n",
        "a *= 6 # Lo mismo que ->  a = a * 6 -> 30\n",
        "a /= 2 # Lo mismo que ->  a = a / 2 -> 15 Este lo convierte en float\n",
        "\n",
        "a += 5 # 20\n",
        "# a =+ 5 # Esto no existe en Python / En Java Si existe\n",
        "# Solo asigna el valor y ya\n",
        "\n",
        "a %= 3 # Lo mismo que ->  a = a % 3 -> 2\n",
        "# % Te da el sobrante de una división entera\n",
        "\n",
        "a **= 5 # Eleva el valor a la X -> a = a ** 5 -> 32\n",
        "\n",
        "a = int(a)\n",
        "\n",
        "a &= 3\n",
        "\n",
        "a = 3\n",
        "\n",
        "a |= 2\n",
        "\n",
        "print(a)"
      ]
    },
    {
      "cell_type": "markdown",
      "metadata": {
        "id": "myYicIX5JDFB"
      },
      "source": [
        "# Operadores logicos\n",
        "\n",
        "Se usa en decisiones\n",
        "\n",
        "- `and` Devuelve TRUE si ambos operandos son TRUE\n",
        "- `or` Devuelve TRUE si uno de los operandos en TRUE\n",
        "- `not` Decuelve TRUE si alguno de los operandos es FALSE"
      ]
    },
    {
      "cell_type": "code",
      "execution_count": null,
      "metadata": {
        "colab": {
          "base_uri": "https://localhost:8080/"
        },
        "id": "Mm63AbM_JSoG",
        "outputId": "08353ed6-c5c1-4c18-b154-988f9fc4c34e"
      },
      "outputs": [
        {
          "name": "stdout",
          "output_type": "stream",
          "text": [
            "False\n",
            "True\n",
            "True\n"
          ]
        }
      ],
      "source": [
        "a = False\n",
        "b = True\n",
        "\n",
        "print(a and b)\n",
        "\n",
        "print(a or b)\n",
        "\n",
        "print(not a) # Aplica la inversa"
      ]
    },
    {
      "cell_type": "markdown",
      "metadata": {
        "id": "bBAUBR_cKDEt"
      },
      "source": [
        "# Operadores de pertenencia\n",
        "\n",
        "- `in` True si un valor esta dentro de una lista o secuencia\n",
        "- `not in` True si un valor NO esta dentro de un a lista o secuencia"
      ]
    },
    {
      "cell_type": "code",
      "execution_count": null,
      "metadata": {
        "colab": {
          "base_uri": "https://localhost:8080/"
        },
        "id": "4dgX_xy0KQ10",
        "outputId": "1034b659-ae82-45c5-805b-c273fa1cf7fa"
      },
      "outputs": [
        {
          "name": "stdout",
          "output_type": "stream",
          "text": [
            "False\n",
            "True\n"
          ]
        }
      ],
      "source": [
        "# Arreglo\n",
        "lista = [1, 2, 3, 4, 5, 6]\n",
        "\n",
        "print(33 in lista)\n",
        "print(33 not in lista)"
      ]
    },
    {
      "cell_type": "markdown",
      "metadata": {
        "id": "GipNfqT7K2Ec"
      },
      "source": [
        "# Operadores de identidad\n",
        "\n",
        "Comprueban si dos variables emplean la misma ubicación de memoria\n",
        "\n",
        "- `is` TRUE si os operandos refieren al mismo objeto\n",
        "- `is not` devuelve True si los operandos NO se refieren al mismo objeto"
      ]
    },
    {
      "cell_type": "code",
      "execution_count": null,
      "metadata": {
        "colab": {
          "base_uri": "https://localhost:8080/"
        },
        "id": "CxRi6egFK0YC",
        "outputId": "7317e5bf-e7a3-4072-8fb0-c3b4042521e7"
      },
      "outputs": [
        {
          "name": "stdout",
          "output_type": "stream",
          "text": [
            "True\n",
            "True\n",
            "False\n",
            "True\n"
          ]
        }
      ],
      "source": [
        "a = 3\n",
        "b = 3\n",
        "c = 4\n",
        "\n",
        "b = a\n",
        "\n",
        "print(a is b)\n",
        "print(c is 4)\n",
        "print (a is not b)\n",
        "\n",
        "a = [10, 20, 30]\n",
        "b = a\n",
        "\n",
        "print(a is b)"
      ]
    },
    {
      "cell_type": "markdown",
      "metadata": {
        "id": "DIunxF9GmHUs"
      },
      "source": [
        "_________________________\n",
        "\n",
        "# Ejercicio 1 pa la casa\n",
        "\n",
        "Vas a pedirle al usuario que introduzca su nombre y su fecha de nacimiento. Haz lo siguiente:\n",
        "\n",
        "1. Validar que el nombre sea String\n",
        "2. Validar que los números de la fecha de nacimiento sean enteros\n",
        "4. Calcular la edad de la persona\n",
        "5. Vas a validar que la persona sea mayor de edad, y que tenga una edad realista\n",
        "6. Vas a multiplicar por dos la edad de la persona, el resultado lo vas a elevar a la tercera potencia y después le restarás 100\n",
        "7. Imprime todos los resultados\n",
        "\n",
        "**Si lo terminas todo te regalo un UwU**\n",
        "\n",
        "![UwU](https://tierragamer.com/wp-content/uploads/2021/09/Que-Significa-UwU.jpg)\n",
        "\n",
        "_________________________"
      ]
    }
  ],
  "metadata": {
    "colab": {
      "collapsed_sections": [],
      "provenance": []
    },
    "kernelspec": {
      "display_name": "Python 3.9.13 64-bit (microsoft store)",
      "language": "python",
      "name": "python3"
    },
    "language_info": {
      "name": "python",
      "version": "3.9.13"
    },
    "vscode": {
      "interpreter": {
        "hash": "ad04bde5a006cd9fe7ffb2b264c21a002ab7f2dd458abe38b17455a9dd2d2b49"
      }
    }
  },
  "nbformat": 4,
  "nbformat_minor": 0
}
